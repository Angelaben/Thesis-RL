{
 "cells": [
  {
   "cell_type": "code",
   "execution_count": 1,
   "metadata": {
    "collapsed": true
   },
   "outputs": [],
   "source": [
    "import os\n",
    "os.chdir(\"/Users/benjaminangelard/Thesis_Recommender_system\")"
   ]
  },
  {
   "cell_type": "code",
   "execution_count": null,
   "metadata": {
    "scrolled": false
   },
   "outputs": [
    {
     "data": {
      "image/png": "[encoded data removed]",
      "text/plain": [
       "<Figure size 288x288 with 1 Axes>"
      ]
     },
     "metadata": {
      "needs_background": "light"
     },
     "output_type": "display_data"
    },
    {
     "data": {
      "image/png": "[encoded data removed]",
      "text/plain": [
       "<Figure size 288x288 with 1 Axes>"
      ]
     },
     "metadata": {
      "needs_background": "light"
     },
     "output_type": "display_data"
    },
    {
     "data": {
      "image/png": "[encoded data removed]",
      "text/plain": [
       "<Figure size 288x288 with 1 Axes>"
      ]
     },
     "metadata": {
      "needs_background": "light"
     },
     "output_type": "display_data"
    }
   ],
   "source": [
    "import numpy as np\n",
    "import torch\n",
    "import torch.nn as nn\n",
    "import torch.nn.functional as F\n",
    "import torch.optim as optim\n",
    "from torch.distributions import Categorical\n",
    "import matplotlib.pyplot as plt\n",
    "from IPython.display import clear_output\n",
    "from Environment.BanditEnvironment_stationary import BanditEnvironment as env_generator\n",
    "from Tools import Logger\n",
    "n_feature_item = 3\n",
    "n_feature_client = 3\n",
    "range_price = 10\n",
    "range_color = 5\n",
    "n_client = 5\n",
    "n_item = 5\n",
    "size_embedding_client = 2\n",
    "size_embedding_item = 2\n",
    "hidden_layer_size = 128\n",
    "\n",
    "\n",
    "class ActorCritic2(nn.Module) :\n",
    "    def __init__(self) :\n",
    "        super(ActorCritic2, self).__init__()\n",
    "        self.embedder_item = nn.Embedding(n_item, size_embedding_item)\n",
    "\n",
    "        self.embedder_client = nn.Embedding(n_client, size_embedding_client)\n",
    "        self.dense_item = nn.Linear(size_embedding_client, hidden_layer_size)\n",
    "        self.dense_client = nn.Linear(size_embedding_item, hidden_layer_size)\n",
    "        # Test concatenation apres concatenation\n",
    "        self.probability = nn.Linear(hidden_layer_size, 1)\n",
    "        self.value = nn.Linear(hidden_layer_size, 1)\n",
    "\n",
    "    # CONTENT BASED x : [client_properties ; item_properties]\n",
    "    # Comment gerer multi item pour l'embedding\n",
    "    # Pas concatener car probleme d'ordre\n",
    "    # Dot product item et client embedding\n",
    "    # Commence par non content based - Seulement ID et embedding\n",
    "\n",
    "    # Non content based : Client_ID - ListItem\n",
    "    def forward(self, x) :\n",
    "        # print(\"X : \",x)\n",
    "        client_ID = torch.tensor(x[0], dtype = torch.long)\n",
    "        items_lists = x[1]\n",
    "        items_list_ID = torch.tensor([item.get_id for item in items_lists])\n",
    "        embeds_client = self.embedder_client(client_ID)  # .view((1, -1))\n",
    "        embeds_items = self.embedder_item(items_list_ID)  # .view((1, -1))\n",
    "        out_client = F.relu(self.dense_client(embeds_client))\n",
    "        out_item = F.relu(self.dense_item(embeds_items))\n",
    "        # print(\"Out client debse\", out_client.shape)\n",
    "        # print(\"Out item dense\", out_item.shape)\n",
    "\n",
    "        out = out_client * out_item\n",
    "        # print(\"Output size with mult\", out.shape)\n",
    "        #  print(out_client.shape, out_item.shape, out.shape)\n",
    "        probs = self.probability(out)\n",
    "        value = self.value(out)\n",
    "        # print(\"Probs shape : \", probs.shape)\n",
    "        # print(\"Value shape : \", value.shape)\n",
    "        return F.softmax(probs, dim = 0), value\n",
    "\n",
    "\n",
    "class Runner() :\n",
    "    def __init__(self, env, gamma = 0.99, n_episode = 10000) :\n",
    "        self.model = ActorCritic2()\n",
    "        self.env = env\n",
    "        self.optimizer = optim.Adam(self.model.parameters(), lr = 1e-2)\n",
    "        self.memory = []\n",
    "        self.gamma = gamma\n",
    "        self.log_delay = 50\n",
    "        self.n_episode = n_episode\n",
    "        self.batch_size = 32\n",
    "        self.epsilon = np.finfo(np.float32).eps.item()\n",
    "        self.logger = Logger.Logger(n_client, env)\n",
    "    def select_action(self, state) :\n",
    "        probs, value = self.model(state)\n",
    "        # On recupere une proba 5x5\n",
    "        # Theorie : Utiliser la repartition de la ligne avec meilleure value ?\n",
    "        #  print(\"Probs and value shape \", probs.shape, value.shape, torch.argmax(value))\n",
    "        #  print(probs)\n",
    "        m = Categorical(probs[torch.argmax(value)])\n",
    "        action = m.sample()\n",
    "        self.memory.append((m.log_prob(action), value[action]))\n",
    "        return action.item()\n",
    "\n",
    "    def replay(self, rewards_log) :\n",
    "        memorized = self.memory\n",
    "        policy_loss = []\n",
    "        value_loss = []\n",
    "        rewards = []\n",
    "        R = 0\n",
    "        for rew in rewards_log[: :-1] :  # Compute reward for trajectoire\n",
    "            R = rew + self.gamma * R\n",
    "            rewards.append(R)\n",
    "        rewards.reverse()\n",
    "        rewards = torch.tensor(rewards)\n",
    "        rewards = (rewards - rewards.mean()) / (rewards.std() + self.epsilon)  # Normalize\n",
    "        for (log_prob, value), r in zip(memorized, rewards) :\n",
    "            Advantage = r - value.item()  # Advantage estimate\n",
    "            policy_loss.append(-log_prob * Advantage)  # Policy gradient loss\n",
    "            value_loss.append(F.smooth_l1_loss(value, torch.tensor([r])))  # Minimize R_T - prediction\n",
    "        self.optimizer.zero_grad()\n",
    "        loss = torch.stack(policy_loss).sum() + torch.stack(value_loss).sum()  # Remove gradient, maintain loss value\n",
    "        loss.backward()\n",
    "        self.optimizer.step()\n",
    "        self.memory = []\n",
    "\n",
    "    def run(self) :\n",
    "        print(self.model)\n",
    "        rewards = []\n",
    "        cumulator = []\n",
    "        ep_reward = 0\n",
    "        last_reward = 0\n",
    "        ep_reward_cumul = []\n",
    "        mean_delta = []\n",
    "        mean_log = []\n",
    "        delay = 1000\n",
    "        for i_episode in range(self.n_episode) :\n",
    "            client_id, items = self.env.reset()\n",
    "            ep_reward_cumul.append(ep_reward)\n",
    "            mean_delta.append(np.mean(cumulator))\n",
    "            mean_log.append(np.mean(ep_reward_cumul))\n",
    "\n",
    "            clear_output(True)\n",
    "            self.logger.plot()\n",
    "            \n",
    "\n",
    "            ep_reward = 0\n",
    "            for t in range(delay) :  # Collect trajectoire\n",
    "                # state = [client.get_properties[1], list_item, client_id]\n",
    "                state = [client_id, items]\n",
    "                action = self.select_action(state)\n",
    "                client_id, items, reward = env.step_mono_recommendation(action)\n",
    "                if reward > 0 :\n",
    "                    delta = t + i_episode * delay - last_reward\n",
    "                    cumulator.append(delta)\n",
    "\n",
    "                    last_reward = t + i_episode * delay\n",
    "                ep_reward += reward\n",
    "                rewards.append(reward)\n",
    "                self.logger.add_reward_client(reward, client_id)\n",
    "            self.replay(rewards)\n",
    "            rewards = []\n",
    "            if i_episode % self.log_delay == 0 :\n",
    "                print(\"Episode {} with reward : {}\".format(i_episode, ep_reward))\n",
    "\n",
    "\n",
    "if __name__ == '__main__' :\n",
    "    env = env_generator(n_client = n_client, n_item = n_item, nb_color = range_color, range_price = range_price)\n",
    "    torch.manual_seed(42)\n",
    "    runner = Runner(env)\n",
    "    runner.run()\n"
   ]
  },
  {
   "cell_type": "code",
   "execution_count": null,
   "metadata": {},
   "outputs": [],
   "source": [
    "runner.logger.plot_opti_per_client()"
   ]
  },
  {
   "cell_type": "code",
   "execution_count": null,
   "metadata": {},
   "outputs": [],
   "source": [
    "plt.subplot(111)\n",
    "axis = plt.gca()\n",
    "axis.set_ylim([0, 1])\n",
    "\n",
    "for client_index in range(5):\n",
    "    plt.scatter(y = runner.logger.log_opti[client_index], x=range(len(runner.logger.log_opti[client_index])), label = \"Client {}\".format(client_index))\n",
    "plt.legend()"
   ]
  },
  {
   "cell_type": "code",
   "execution_count": null,
   "metadata": {},
   "outputs": [],
   "source": [
    "plt.subplot(111)\n",
    "axis = plt.gca()\n",
    "axis.set_ylim([0, 1])\n",
    "\n",
    "for client_index in range(5):\n",
    "    plt.plot(runner.logger.log_opti[client_index][:10], label = \"Client {}\".format(client_index))\n",
    "plt.legend()"
   ]
  },
  {
   "cell_type": "code",
   "execution_count": null,
   "metadata": {},
   "outputs": [],
   "source": []
  },
  {
   "cell_type": "code",
   "execution_count": null,
   "metadata": {},
   "outputs": [],
   "source": [
    "runner.env.get_indicator()"
   ]
  },
  {
   "cell_type": "code",
   "execution_count": null,
   "metadata": {},
   "outputs": [],
   "source": [
    "for client in runner.env.list_client:\n",
    "    print(client.center_of_price)"
   ]
  },
  {
   "cell_type": "code",
   "execution_count": null,
   "metadata": {},
   "outputs": [],
   "source": [
    "runner.env.list_client[4]._taste"
   ]
  },
  {
   "cell_type": "code",
   "execution_count": null,
   "metadata": {},
   "outputs": [],
   "source": [
    "for item in runner.env.list_items:\n",
    "    print(item.get_properties[:2])"
   ]
  },
  {
   "cell_type": "code",
   "execution_count": null,
   "metadata": {
    "collapsed": true
   },
   "outputs": [],
   "source": []
  }
 ],
 "metadata": {
  "kernelspec": {
   "display_name": "Python 3",
   "language": "python",
   "name": "python3"
  },
  "language_info": {
   "codemirror_mode": {
    "name": "ipython",
    "version": 3
   },
   "file_extension": ".py",
   "mimetype": "text/x-python",
   "name": "python",
   "nbconvert_exporter": "python",
   "pygments_lexer": "ipython3",
   "version": "3.7.1"
  }
 },
 "nbformat": 4,
 "nbformat_minor": 1
}
