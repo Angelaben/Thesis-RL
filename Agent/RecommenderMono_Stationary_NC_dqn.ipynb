{
 "cells": [
  {
   "cell_type": "code",
   "execution_count": 1,
   "metadata": {
    "scrolled": false
   },
   "outputs": [],
   "source": [
    "def preprocess(user_id, items) :\n",
    "    state = [[user_id]]\n",
    "    for item in items :\n",
    "        as_category = item.get_as_one_hot()\n",
    "        state.append(to_categorical(as_category[0], num_classes = n_item))  # Id\n",
    "        state.append([as_category[1]])  # Price\n",
    "        state.append(as_category[2])  # Color\n",
    "    flat = itertools.chain.from_iterable(state)\n",
    "    return list(flat)\n",
    "\n",
    "\n",
    "def replay(modele, target, memory, optimizer) :\n",
    "    states, actions, next_states, rewards, dones = modele.sample(batch_size, memory)\n",
    "    states = process_states(states)\n",
    "    next_states = process_states(next_states)\n",
    "    rewards = rewards.reshape((-1, 1))\n",
    "    dones = dones.reshape((-1, 1))\n",
    "    \n",
    "    prediction = torch.tensor(\n",
    "        (1 - dones) * (rewards + modele.gamma * np.amax(target(next_states).detach().numpy(), axis = 1)))\n",
    "    \n",
    "    real_value = modele(states)\n",
    "    prediction = prediction.view(-1, 1)\n",
    "    actions = actions.view(-1, 1) # 32, 1\n",
    "    pre = real_value.clone()\n",
    "    for cpt, row in enumerate(real_value):\n",
    "        row[actions[cpt]] = prediction[cpt].float()\n",
    "        real_value[cpt] = row\n",
    "\n",
    "    loss = F.mse_loss(pre, real_value)\n",
    "    optimizer.zero_grad()\n",
    "    loss.backward()\n",
    "    optimizer.step()\n",
    "\n",
    "def process_states(batch_states):\n",
    "    batch = []\n",
    "    for states in batch_states:\n",
    "        sub_batch = []\n",
    "        user_id = states[0]\n",
    "        for items in states[1]:\n",
    "            sub_batch.append(preprocess(user_id, [items]))\n",
    "        batch.append(sub_batch)\n",
    "    return batch"
   ]
  },
  {
   "cell_type": "code",
   "execution_count": null,
   "metadata": {
    "scrolled": false
   },
   "outputs": [
    {
     "data": {
      "image/png": "[encoded data removed]",
      "text/plain": [
       "<Figure size 360x360 with 1 Axes>"
      ]
     },
     "metadata": {
      "needs_background": "light"
     },
     "output_type": "display_data"
    },
    {
     "data": {
      "image/png": "[encoded data removed]",
      "text/plain": [
       "<Figure size 360x360 with 1 Axes>"
      ]
     },
     "metadata": {
      "needs_background": "light"
     },
     "output_type": "display_data"
    }
   ],
   "source": [
    "import os\n",
    "import torch\n",
    "os.chdir(\"/Users/benjaminangelard/Thesis_Recommender_system\")\n",
    "\n",
    "#torch.set_default_tensor_type('torch.cuda.FloatTensor')\n",
    "import numpy as np\n",
    "import torch\n",
    "import torch.nn as nn\n",
    "import torch.nn.functional as F\n",
    "import torch.optim as optim\n",
    "from torch.distributions import Categorical\n",
    "import matplotlib.pyplot as plt\n",
    "from IPython.display import clear_output\n",
    "from Environment.BanditEnvironment_stationary import BanditEnvironment as env_generator\n",
    "from Tools import Logger\n",
    "from collections import deque\n",
    "from keras.utils import to_categorical\n",
    "import itertools\n",
    "\n",
    "n_feature_item = 3\n",
    "n_feature_client = 3\n",
    "range_price = 10\n",
    "range_color = 5\n",
    "n_client = 5\n",
    "n_item = 5\n",
    "hidden_layer_size = 128\n",
    "learning_rate = 5e-4\n",
    "log_delay = 10\n",
    "batch_size = 32\n",
    "target_update = 10\n",
    "epsilon_decay = 100\n",
    "input_state_size = 1 + (range_color + 1 + n_item)# * n_item\n",
    "GAMMA = 0.99\n",
    "memory = deque(maxlen = 10000)\n",
    "\n",
    "class DQN(nn.Module) :\n",
    "    def __init__(self, gamma) :\n",
    "        super(DQN, self).__init__()\n",
    "        self.create_model()\n",
    "        self.gamma = gamma\n",
    "\n",
    "    def create_model(self) :\n",
    "        self.dense1 = nn.Linear(input_state_size, hidden_layer_size)\n",
    "        self.dense2 = nn.Linear(hidden_layer_size, 1)\n",
    "\n",
    "    def forward(self, x) :\n",
    "        client_ID = torch.from_numpy(np.array(x)).float()\n",
    "        out_1 = torch.relu(self.dense1(client_ID))\n",
    "        return self.dense2(out_1)\n",
    "\n",
    "    def remember(self, memory, state, action, next_state, reward, done) :\n",
    "        memory.append((state, action, next_state, reward, done))\n",
    "\n",
    "    def sample(self, batch_size, memory) :\n",
    "        indices = np.random.choice(len(memory), batch_size, replace = False)\n",
    "        states, actions, next_states, rewards, dones = zip(*[memory[idx] for idx in indices])\n",
    "        return np.array(states), torch.from_numpy(np.array(actions)), np.array(next_states), np.array(rewards), np.array(dones)\n",
    "\n",
    "    def choose_action(self, state, epsilon) :\n",
    "\n",
    "        coin_toss = np.random.random()\n",
    "        if coin_toss < epsilon :\n",
    "            return np.random.randint(n_item)\n",
    "        else :\n",
    "            user_id = state[0]\n",
    "            items = state[1]\n",
    "            scores = []\n",
    "            for item in items:\n",
    "                current_state = preprocess(user_id = user_id, items = [item])\n",
    "                score = self(current_state).item()\n",
    "                scores.append(score)\n",
    "            return np.argmax(scores)\n",
    "\n",
    "    # Return state\n",
    "\n",
    "\n",
    "\n",
    "\n",
    "\n",
    "class Runner() :\n",
    "    def __init__(self, env, n_episode = 10000) :\n",
    "        self.model = DQN(gamma = GAMMA)\n",
    "        self.target = DQN(gamma = GAMMA)\n",
    "        self.target.load_state_dict(self.model.state_dict())\n",
    "        self.target.eval()\n",
    "        #  self.model.cuda()\n",
    "        self.env = env\n",
    "        self.optimizer = optim.Adam(self.model.parameters(), lr = learning_rate)\n",
    "        self.memory = []\n",
    "        self.gamma = GAMMA\n",
    "        self.log_delay = log_delay\n",
    "        self.n_episode = n_episode\n",
    "        self.batch_size = batch_size\n",
    "        self.epsilon = np.finfo(np.float32).eps.item()\n",
    "        self.logger = Logger.Logger(n_client, env, 10000)\n",
    "        self.memory_loss = []\n",
    "        self.epsilon_explo = 1.0\n",
    "        self.epsilon_origin = 1.0\n",
    "\n",
    "    def run(self) :\n",
    "        print(self.model)\n",
    "        epsilon_log = []\n",
    "        cumulator = []\n",
    "        ep_reward = 0\n",
    "        last_reward = 0\n",
    "        ep_reward_cumul = []\n",
    "        mean_delta = []\n",
    "        mean_log = []\n",
    "        delay = 100\n",
    "        for i_episode in range(self.n_episode) :\n",
    "            client_id, items = self.env.reset()\n",
    "            ep_reward_cumul.append(ep_reward)\n",
    "            mean_delta.append(np.mean(cumulator))\n",
    "            mean_log.append(np.mean(ep_reward_cumul))\n",
    "            self.epsilon_explo = max(self.epsilon_origin - self.epsilon_origin * i_episode / epsilon_decay, 0.02)\n",
    "            epsilon_log.append(self.epsilon_explo)\n",
    "            if i_episode % self.log_delay == 0 :\n",
    "                clear_output(True)\n",
    "                self.logger.plot()\n",
    "\n",
    "\n",
    "            ep_reward = 0\n",
    "            for t in range(delay) :  # Collect trajectoire\n",
    "\n",
    "                state = [client_id, items]\n",
    "                action = self.model.choose_action(epsilon = self.epsilon_explo, state = state)\n",
    "                client_id_next, items, reward = env.step_mono_recommendation(action)\n",
    "\n",
    "                ep_reward += reward\n",
    "                self.logger.add_reward_client(reward, client_id)\n",
    "                next_state = [client_id_next, items]\n",
    "                self.model.remember(memory = memory, state = state, next_state = next_state, \\\n",
    "                                    action = action, done = not (t < (delay - 1)), reward = reward)\n",
    "                client_id = client_id_next\n",
    "                if t % target_update == 0 :\n",
    "                    self.target.load_state_dict(self.model.state_dict())\n",
    "            replay(modele = self.model, target = self.target, optimizer = self.optimizer, memory = memory)\n",
    "            if i_episode % self.log_delay == 0 :\n",
    "                print(\"Episode {} with reward : {} and epsilon\".format(i_episode, ep_reward, self.epsilon))\n",
    "\n",
    "\n",
    "if __name__ == '__main__' :\n",
    "    env = env_generator(n_client = n_client, n_item = n_item, nb_color = range_color, range_price = range_price)\n",
    "\n",
    "    runner = Runner(env)\n",
    "    runner.run()\n",
    "\n",
    "# TODO :\n",
    "# Si un utilisateur a eut une bonne recommendation sa \"satisfaction augmente\" donc plus de chance d'achat, bonus en % sur chance d'achat\n",
    "# Essayer https://arxiv.org/pdf/1810.12027.pdf"
   ]
  },
  {
   "cell_type": "code",
   "execution_count": null,
   "metadata": {},
   "outputs": [],
   "source": [
    "states, actions, next_states, rewards, dones = runner.model.sample(batch_size, memory)"
   ]
  },
  {
   "cell_type": "code",
   "execution_count": null,
   "metadata": {},
   "outputs": [],
   "source": [
    "print(np.array(states).shape)\n",
    "states[0]"
   ]
  },
  {
   "cell_type": "code",
   "execution_count": null,
   "metadata": {},
   "outputs": [],
   "source": [
    "res = np.array(process_states(states))#.shape\n",
    "res.shape, res[0].shape"
   ]
  },
  {
   "cell_type": "code",
   "execution_count": null,
   "metadata": {},
   "outputs": [],
   "source": [
    "res[0, : , :].shape"
   ]
  },
  {
   "cell_type": "code",
   "execution_count": null,
   "metadata": {},
   "outputs": [],
   "source": [
    "test = runner.model(res)\n",
    "test.shape"
   ]
  },
  {
   "cell_type": "code",
   "execution_count": null,
   "metadata": {},
   "outputs": [],
   "source": [
    "test[0]"
   ]
  },
  {
   "cell_type": "code",
   "execution_count": null,
   "metadata": {},
   "outputs": [],
   "source": [
    "states, actions, next_states, rewards, dones = runner.model.sample(batch_size, memory)\n",
    "states = process_states(states)\n",
    "next_states = process_states(next_states)   \n",
    "rewards = rewards.reshape((-1, 1))\n",
    "\n",
    "dones = dones.reshape((-1, 1))\n",
    "prediction = torch.tensor(\n",
    "    (1 - dones) * (rewards + runner.model.gamma * np.amax(runner.target(next_states).detach().numpy(), axis = 1)))\n",
    "prediction = prediction.view(-1, 1)\n",
    "real_value = runner.model(states)\n",
    "actions = actions.view(-1, 1) # 32, 1\n",
    "pre = real_value.clone()\n",
    "for cpt, row in enumerate(real_value):\n",
    "    row[actions[cpt]] = prediction[cpt].float()\n",
    "    real_value[cpt] = row\n",
    "pre[0], real_value[0]"
   ]
  },
  {
   "cell_type": "code",
   "execution_count": null,
   "metadata": {},
   "outputs": [],
   "source": [
    "loss = F.mse_loss(pre, real_value)\n",
    "loss"
   ]
  },
  {
   "cell_type": "code",
   "execution_count": null,
   "metadata": {},
   "outputs": [],
   "source": [
    "print(real_value[0], prediction[0])\n",
    "for cpt, row in enumerate(real_value):\n",
    "   # print(row[actions[cpt]])\n",
    "   # print(prediction[cpt])\n",
    "    row[actions[cpt]] = prediction[cpt].float()\n",
    "    real_value[cpt] = row\n",
    "print(real_value[0], prediction[0])"
   ]
  },
  {
   "cell_type": "code",
   "execution_count": null,
   "metadata": {},
   "outputs": [],
   "source": [
    "actions.shape, real_value.shape, prediction.shape"
   ]
  },
  {
   "cell_type": "code",
   "execution_count": null,
   "metadata": {},
   "outputs": [],
   "source": [
    " (1 - dones).shape, \\\n",
    "    np.amax(runner.target(next_states).detach().numpy(), axis = 1).shape,\\\n",
    "    (rewards.reshape((-1, 1)) + runner.model.gamma * np.amax(runner.target(next_states).detach().numpy(), axis = 1)).shape,\\\n",
    "    rewards.reshape((-1, 1)).shape"
   ]
  },
  {
   "cell_type": "code",
   "execution_count": null,
   "metadata": {},
   "outputs": [],
   "source": [
    "\n",
    "real_value[0][1] = 1\n",
    "real_value[0]"
   ]
  },
  {
   "cell_type": "code",
   "execution_count": null,
   "metadata": {
    "collapsed": true
   },
   "outputs": [],
   "source": []
  }
 ],
 "metadata": {
  "kernelspec": {
   "display_name": "Python 3",
   "language": "python",
   "name": "python3"
  },
  "language_info": {
   "codemirror_mode": {
    "name": "ipython",
    "version": 3
   },
   "file_extension": ".py",
   "mimetype": "text/x-python",
   "name": "python",
   "nbconvert_exporter": "python",
   "pygments_lexer": "ipython3",
   "version": "3.7.1"
  }
 },
 "nbformat": 4,
 "nbformat_minor": 1
}
